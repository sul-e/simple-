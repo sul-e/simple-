{
 "cells": [
  {
   "cell_type": "code",
   "execution_count": 4,
   "id": "5b59da16-d70b-4cb8-abc6-1cc38a236989",
   "metadata": {},
   "outputs": [],
   "source": [
    "import cv2\n",
    "import numpy as np\n",
    "import os\n",
    "\n",
    "def load_images_from_folder(folder):\n",
    "    images = []  # List to store loaded grayscale images\n",
    "    labels = []  # List to store corresponding integers for each image\n",
    "    for label, person_folder in enumerate(os.listdir(folder)):  # Iterate through each subdirectory\n",
    "        person_path = os.path.join(folder, person_folder)\n",
    "        if os.path.isdir(person_path):  # Check if person_path is indeed a directory\n",
    "            for filename in os.listdir(person_path):\n",
    "                img_path = os.path.join(person_path, filename)\n",
    "                img = cv2.imread(img_path, cv2.IMREAD_GRAYSCALE)\n",
    "                if img is not None:  # If image exists\n",
    "                    images.append(img)\n",
    "                    labels.append(label)  # Unique label for each person\n",
    "    return images, labels  # Return lists of images and labels\n",
    "\n",
    "# Load images and labels\n",
    "images, labels = load_images_from_folder('dataset')  # Ensure 'dataset' contains subfolders for each person\n",
    "\n",
    "# Initialize and train recognizer\n",
    "face_recognizer = cv2.face.LBPHFaceRecognizer_create()\n",
    "face_recognizer.train(images, np.array(labels))\n",
    "\n",
    "# Load Haar cascade for face detection\n",
    "face_cascade = cv2.CascadeClassifier(cv2.data.haarcascades + \"haarcascade_frontalface_default.xml\")\n",
    "\n",
    "# Capture video from webcam\n",
    "cap = cv2.VideoCapture(0)\n",
    "\n",
    "while True:\n",
    "    ret, frame = cap.read()\n",
    "    if not ret:\n",
    "        break\n",
    "    \n",
    "    gray = cv2.cvtColor(frame, cv2.COLOR_BGR2GRAY)\n",
    "    faces = face_cascade.detectMultiScale(gray, scaleFactor=1.1, minNeighbors=5)\n",
    "\n",
    "    for (x, y, w, h) in faces:\n",
    "        roi_gray = gray[y:y+h, x:x+w]  # Region of interest for prediction\n",
    "        label, confidence = face_recognizer.predict(roi_gray)\n",
    "\n",
    "        # Set a threshold for confidence\n",
    "        if confidence < 100:  # Adjust this threshold based on testing\n",
    "            name = f\"Kidist {label}\"  # Replace with actual names if available\n",
    "        else:\n",
    "            name = \"Unknown\"  # Correctly classify as unknown\n",
    "\n",
    "        cv2.rectangle(frame, (x, y), (x + w, y + h), (0, 255, 0), 2)  # Draw rectangle around face\n",
    "        cv2.putText(frame, name, (x, y - 10), cv2.FONT_HERSHEY_SIMPLEX, 0.8, (255, 255, 255), 2)  # Put text on frame\n",
    "\n",
    "    cv2.imshow('Face Recognition', frame)  # Display the resulting frame\n",
    "\n",
    "    if cv2.waitKey(1) & 0xFF == ord('q'):  # Break the loop on 'q' key press\n",
    "        break\n",
    "\n",
    "# Release the capture and close windows\n",
    "cap.release()\n",
    "cv2.destroyAllWindows()"
   ]
  },
  {
   "cell_type": "code",
   "execution_count": 21,
   "id": "6ec9c86b-c381-4751-9772-1f4c8ada390b",
   "metadata": {},
   "outputs": [],
   "source": [
    "#Basic concepts to understand in faceRecognition source code\n",
    "#import os-to create,remove and list directories and paths\n",
    "#import numpy as kid(numerical python)-for arrays,matrices and numerical computing\n",
    "#import cv2-to read,write and manipulate images and videos\n",
    "#"
   ]
  },
  {
   "cell_type": "code",
   "execution_count": null,
   "id": "a45a050e-08b5-470a-a569-d7a6a176169a",
   "metadata": {},
   "outputs": [],
   "source": []
  },
  {
   "cell_type": "code",
   "execution_count": null,
   "id": "7ddf2a38-99a0-4d8d-b912-462290453ad7",
   "metadata": {},
   "outputs": [],
   "source": []
  },
  {
   "cell_type": "code",
   "execution_count": null,
   "id": "a0ef85b8-e6b8-4f20-905d-42332bb2f112",
   "metadata": {},
   "outputs": [],
   "source": []
  }
 ],
 "metadata": {
  "kernelspec": {
   "display_name": "Python 3 (ipykernel)",
   "language": "python",
   "name": "python3"
  },
  "language_info": {
   "codemirror_mode": {
    "name": "ipython",
    "version": 3
   },
   "file_extension": ".py",
   "mimetype": "text/x-python",
   "name": "python",
   "nbconvert_exporter": "python",
   "pygments_lexer": "ipython3",
   "version": "3.12.7"
  }
 },
 "nbformat": 4,
 "nbformat_minor": 5
}
